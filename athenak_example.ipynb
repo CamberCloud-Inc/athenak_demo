{
 "cells": [
  {
   "cell_type": "markdown",
   "id": "0eec5905-b2cf-40e1-be80-c4d11b95233d",
   "metadata": {},
   "source": [
    "### GPU simulaton of Blast Wave in Reflecting Box with AthenaK"
   ]
  },
  {
   "cell_type": "markdown",
   "id": "48bf00ff-4774-4680-a847-701bc9334200",
   "metadata": {},
   "source": [
    "### Spin-Up a GPU instance, compile, and execute the simulation code"
   ]
  },
  {
   "cell_type": "code",
   "execution_count": null,
   "id": "6a3fd93d-2edb-44b9-be1f-751f149060ea",
   "metadata": {
    "tags": []
   },
   "outputs": [],
   "source": [
    "# spin up camber\n",
    "import camber"
   ]
  },
  {
   "cell_type": "code",
   "execution_count": null,
   "id": "0f942458-1dbc-4bbd-a029-35acb0dae4d3",
   "metadata": {
    "tags": []
   },
   "outputs": [],
   "source": [
    "# Remove previous CMakeChache.txt file if needed\n",
    "job = camber.athena.create_job(\n",
    "    \"rm CMakeCache.txt\",\n",
    "    worker_size=\"XSMALL\",\n",
    "    with_gpu=True,\n",
    ")"
   ]
  },
  {
   "cell_type": "code",
   "execution_count": null,
   "id": "aeaae81d-e5cd-4356-aab3-ced026cb5e17",
   "metadata": {
    "tags": []
   },
   "outputs": [],
   "source": [
    "# We first configure the build to run the Blast Wave problem\n",
    "job = camber.athena.create_job(\n",
    "    \"cmake -DPROBLEM=blast -DKokkos_ENABLE_CUDA=On -DKokkos_ARCH_VOLTA70=On -DCMAKE_CXX_COMPILER=$ATHENA_HOME/kokkos/bin/nvcc_wrapper ../\",\n",
    "    worker_size=\"XSMALL\",\n",
    "    with_gpu=True,\n",
    ")"
   ]
  },
  {
   "cell_type": "code",
   "execution_count": null,
   "id": "2b4cca24-7adc-4f32-ab41-71a0933d9ee0",
   "metadata": {
    "tags": []
   },
   "outputs": [],
   "source": [
    "# Now compile the makefile\n",
    "job = camber.athena.create_job(\n",
    "    command=\"make all -j$(nproc)\",\n",
    "    worker_size=\"XSMALL\",\n",
    "    with_gpu=True,\n",
    ")"
   ]
  },
  {
   "cell_type": "code",
   "execution_count": null,
   "id": "c4b5247f-7a09-4af3-b6f9-faf07758d432",
   "metadata": {
    "tags": []
   },
   "outputs": [],
   "source": [
    "# You can see a list of all active and recent jobs via the command\n",
    "camber.athena.list_jobs()"
   ]
  },
  {
   "cell_type": "code",
   "execution_count": null,
   "id": "6146f5aa-0269-4bdf-8132-b507ee1e13dc",
   "metadata": {
    "tags": []
   },
   "outputs": [],
   "source": [
    "# after the jobs is launched, you can check the job progess via the read_logs command.  This information will also be\n",
    "# output to a file that you can read from the command line.  For example, job 1 would be written to file job1.log\n",
    "\n",
    "job = camber.athena.create_job(\n",
    "    command=\"src/athena -i blast_hydro.athinput\",\n",
    "    worker_size=\"XSMALL\",\n",
    "    with_gpu=True,\n",
    ")"
   ]
  },
  {
   "cell_type": "markdown",
   "id": "9d492bb4-0a4a-42f7-a1dd-e1f4d9cf4e59",
   "metadata": {},
   "source": [
    "### Plot the results and make a movie"
   ]
  },
  {
   "cell_type": "code",
   "execution_count": null,
   "id": "cb8eba30-1eb7-4dd7-857b-108252da5e83",
   "metadata": {
    "tags": []
   },
   "outputs": [],
   "source": [
    "# generate images and movie\n",
    "import plot_output\n",
    "import subprocess\n",
    "subprocess.run([\"mkdir\",\"output_images\"]) # make image directory \n",
    "plot_output.plot_output()"
   ]
  },
  {
   "cell_type": "markdown",
   "id": "3c46fe89-b9f8-40d9-8d1c-672583ea642c",
   "metadata": {},
   "source": [
    "### Visualize the Data"
   ]
  },
  {
   "cell_type": "code",
   "execution_count": null,
   "id": "cf9f1fa4-b18c-45b6-b276-88a1fbd02a5e",
   "metadata": {
    "tags": []
   },
   "outputs": [],
   "source": [
    "from IPython.display import Video\n",
    "Video(\"output_images/density.mp4\")"
   ]
  },
  {
   "cell_type": "code",
   "execution_count": null,
   "id": "26827040-bde3-4b4f-9da6-8f3c79e27a00",
   "metadata": {},
   "outputs": [],
   "source": []
  },
  {
   "cell_type": "code",
   "execution_count": null,
   "id": "bf005d2e-cfea-4617-9e23-fa68238c8bfd",
   "metadata": {},
   "outputs": [],
   "source": []
  }
 ],
 "metadata": {
  "kernelspec": {
   "display_name": "PyCamber",
   "language": "python",
   "name": "python3"
  },
  "language_info": {
   "codemirror_mode": {
    "name": "ipython",
    "version": 3
   },
   "file_extension": ".py",
   "mimetype": "text/x-python",
   "name": "python",
   "nbconvert_exporter": "python",
   "pygments_lexer": "ipython3",
   "version": "3.10.10"
  }
 },
 "nbformat": 4,
 "nbformat_minor": 5
}
