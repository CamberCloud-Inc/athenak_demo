{
 "cells": [
  {
   "cell_type": "markdown",
   "id": "0eec5905-b2cf-40e1-be80-c4d11b95233d",
   "metadata": {},
   "source": [
    "## GPU simulaton of Blast Wave in Reflecting Box with AthenaK"
   ]
  },
  {
   "cell_type": "markdown",
   "id": "48bf00ff-4774-4680-a847-701bc9334200",
   "metadata": {},
   "source": [
    "### Spin-Up a GPU instance, compile, and execute the simulation code"
   ]
  },
  {
   "cell_type": "code",
   "execution_count": 1,
   "id": "6a3fd93d-2edb-44b9-be1f-751f149060ea",
   "metadata": {
    "tags": []
   },
   "outputs": [],
   "source": [
    "# spin up camber\n",
    "import camber"
   ]
  },
  {
   "cell_type": "code",
   "execution_count": 2,
   "id": "aeaae81d-e5cd-4356-aab3-ced026cb5e17",
   "metadata": {
    "tags": []
   },
   "outputs": [],
   "source": [
    "# We first configure the build to run the Blast Wave problem\n",
    "job = camber.athena.create_job(\n",
    "    \"cmake -DPROBLEM=blast -DKokkos_ENABLE_CUDA=On -DKokkos_ARCH_VOLTA70=On -DCMAKE_CXX_COMPILER=$ATHENA_HOME/kokkos/bin/nvcc_wrapper ../\",\n",
    "    worker_size=\"XSMALL\",\n",
    "    with_gpu=True,\n",
    ")"
   ]
  },
  {
   "cell_type": "code",
   "execution_count": 3,
   "id": "2b4cca24-7adc-4f32-ab41-71a0933d9ee0",
   "metadata": {
    "tags": []
   },
   "outputs": [],
   "source": [
    "# Now compile the makefile\n",
    "job = camber.athena.create_job(\n",
    "    command=\"make all -j$(nproc)\",\n",
    "    worker_size=\"XSMALL\",\n",
    "    with_gpu=True,\n",
    ")"
   ]
  },
  {
   "cell_type": "code",
   "execution_count": 7,
   "id": "c4b5247f-7a09-4af3-b6f9-faf07758d432",
   "metadata": {
    "tags": []
   },
   "outputs": [
    {
     "data": {
      "text/plain": [
       "[AthenaJob({\"job_id\": 1191, \"status\": \"RUNNING\", \"worker_size\": \"XSMALL\", \"job_type\": \"ATHENA\", \"command\": \"src/athena -i blast_hydro.athinput\", \"file_dir\": \"athenak\", \"with_gpu\": false, \"tags\": null}),\n",
       " AthenaJob({\"job_id\": 1190, \"status\": \"COMPLETED\", \"worker_size\": \"XSMALL\", \"job_type\": \"ATHENA\", \"command\": \"make all -j$(nproc)\", \"file_dir\": \"athenak\", \"with_gpu\": false, \"tags\": null}),\n",
       " AthenaJob({\"job_id\": 1189, \"status\": \"COMPLETED\", \"worker_size\": \"XSMALL\", \"job_type\": \"ATHENA\", \"command\": \"cmake -DPROBLEM=blast -DKokkos_ENABLE_CUDA=On -DKokkos_ARCH_VOLTA70=On -DCMAKE_CXX_COMPILER=$ATHENA_HOME/kokkos/bin/nvcc_wrapper ../\", \"file_dir\": \"athenak\", \"with_gpu\": false, \"tags\": null})]"
      ]
     },
     "execution_count": 7,
     "metadata": {},
     "output_type": "execute_result"
    }
   ],
   "source": [
    "# You can see a list of all active and recent jobs via the command\n",
    "camber.athena.list_jobs()"
   ]
  },
  {
   "cell_type": "code",
   "execution_count": 6,
   "id": "6146f5aa-0269-4bdf-8132-b507ee1e13dc",
   "metadata": {
    "tags": []
   },
   "outputs": [],
   "source": [
    "# after the jobs is launched, you can check the job progess via the read_logs command.  This information will also be\n",
    "# output to a file that you can read from the command line.  For example, job 1 would be written to file job1.log\n",
    "\n",
    "job = camber.athena.create_job(\n",
    "    command=\"src/athena -i blast_hydro.athinput\",\n",
    "    worker_size=\"XSMALL\",\n",
    "    with_gpu=True,\n",
    ")"
   ]
  },
  {
   "cell_type": "markdown",
   "id": "9d492bb4-0a4a-42f7-a1dd-e1f4d9cf4e59",
   "metadata": {},
   "source": [
    "### Plot the results and make a movie"
   ]
  },
  {
   "cell_type": "code",
   "execution_count": 8,
   "id": "d596589a-cb0d-4620-82fa-7ca4ed632717",
   "metadata": {
    "tags": []
   },
   "outputs": [
    {
     "name": "stdout",
     "output_type": "stream",
     "text": [
      "<matplotlib.colors.LinearSegmentedColormap object at 0x7fb46a6f49d0>\n",
      "plotting bin/Blast.hydro_w.00000.bin...\n",
      "plotting bin/Blast.hydro_w.00001.bin...\n",
      "plotting bin/Blast.hydro_w.00002.bin...\n",
      "plotting bin/Blast.hydro_w.00003.bin...\n",
      "plotting bin/Blast.hydro_w.00004.bin...\n",
      "plotting bin/Blast.hydro_w.00005.bin...\n",
      "plotting bin/Blast.hydro_w.00006.bin...\n",
      "plotting bin/Blast.hydro_w.00007.bin...\n",
      "plotting bin/Blast.hydro_w.00008.bin...\n",
      "plotting bin/Blast.hydro_w.00009.bin...\n",
      "plotting bin/Blast.hydro_w.00010.bin...\n",
      "plotting bin/Blast.hydro_w.00011.bin...\n",
      "plotting bin/Blast.hydro_w.00012.bin...\n",
      "plotting bin/Blast.hydro_w.00013.bin...\n",
      "plotting bin/Blast.hydro_w.00014.bin...\n",
      "plotting bin/Blast.hydro_w.00015.bin...\n",
      "plotting bin/Blast.hydro_w.00016.bin...\n",
      "plotting bin/Blast.hydro_w.00017.bin...\n",
      "plotting bin/Blast.hydro_w.00018.bin...\n",
      "plotting bin/Blast.hydro_w.00019.bin...\n",
      "plotting bin/Blast.hydro_w.00020.bin...\n",
      "plotting bin/Blast.hydro_w.00021.bin...\n",
      "plotting bin/Blast.hydro_w.00022.bin...\n",
      "plotting bin/Blast.hydro_w.00023.bin...\n",
      "plotting bin/Blast.hydro_w.00024.bin...\n",
      "plotting bin/Blast.hydro_w.00025.bin...\n",
      "plotting bin/Blast.hydro_w.00026.bin...\n",
      "plotting bin/Blast.hydro_w.00027.bin...\n",
      "plotting bin/Blast.hydro_w.00028.bin...\n",
      "plotting bin/Blast.hydro_w.00029.bin...\n",
      "plotting bin/Blast.hydro_w.00030.bin...\n",
      "plotting bin/Blast.hydro_w.00031.bin...\n",
      "plotting bin/Blast.hydro_w.00032.bin...\n",
      "plotting bin/Blast.hydro_w.00033.bin...\n",
      "plotting bin/Blast.hydro_w.00034.bin...\n",
      "plotting bin/Blast.hydro_w.00035.bin...\n",
      "plotting bin/Blast.hydro_w.00036.bin...\n",
      "plotting bin/Blast.hydro_w.00037.bin...\n",
      "plotting bin/Blast.hydro_w.00038.bin...\n",
      "plotting bin/Blast.hydro_w.00039.bin...\n",
      "plotting bin/Blast.hydro_w.00040.bin...\n",
      "plotting bin/Blast.hydro_w.00041.bin...\n",
      "plotting bin/Blast.hydro_w.00042.bin...\n",
      "plotting bin/Blast.hydro_w.00043.bin...\n",
      "plotting bin/Blast.hydro_w.00044.bin...\n",
      "plotting bin/Blast.hydro_w.00045.bin...\n",
      "plotting bin/Blast.hydro_w.00046.bin...\n",
      "plotting bin/Blast.hydro_w.00047.bin...\n",
      "plotting bin/Blast.hydro_w.00048.bin...\n",
      "plotting bin/Blast.hydro_w.00049.bin...\n",
      "plotting bin/Blast.hydro_w.00050.bin...\n",
      "plotting bin/Blast.hydro_w.00051.bin...\n",
      "plotting bin/Blast.hydro_w.00052.bin...\n",
      "plotting bin/Blast.hydro_w.00053.bin...\n",
      "plotting bin/Blast.hydro_w.00054.bin...\n",
      "plotting bin/Blast.hydro_w.00055.bin...\n",
      "plotting bin/Blast.hydro_w.00056.bin...\n",
      "plotting bin/Blast.hydro_w.00057.bin...\n",
      "plotting bin/Blast.hydro_w.00058.bin...\n",
      "plotting bin/Blast.hydro_w.00059.bin...\n",
      "plotting bin/Blast.hydro_w.00060.bin...\n",
      "plotting bin/Blast.hydro_w.00061.bin...\n",
      "plotting bin/Blast.hydro_w.00062.bin...\n",
      "plotting bin/Blast.hydro_w.00063.bin...\n",
      "plotting bin/Blast.hydro_w.00064.bin...\n",
      "plotting bin/Blast.hydro_w.00065.bin...\n",
      "plotting bin/Blast.hydro_w.00066.bin...\n",
      "plotting bin/Blast.hydro_w.00067.bin...\n",
      "plotting bin/Blast.hydro_w.00068.bin...\n",
      "plotting bin/Blast.hydro_w.00069.bin...\n",
      "plotting bin/Blast.hydro_w.00070.bin...\n",
      "plotting bin/Blast.hydro_w.00071.bin...\n",
      "plotting bin/Blast.hydro_w.00072.bin...\n",
      "plotting bin/Blast.hydro_w.00073.bin...\n",
      "plotting bin/Blast.hydro_w.00074.bin...\n",
      "plotting bin/Blast.hydro_w.00075.bin...\n",
      "plotting bin/Blast.hydro_w.00076.bin...\n",
      "plotting bin/Blast.hydro_w.00077.bin...\n",
      "plotting bin/Blast.hydro_w.00078.bin...\n",
      "plotting bin/Blast.hydro_w.00079.bin...\n",
      "plotting bin/Blast.hydro_w.00080.bin...\n",
      "plotting bin/Blast.hydro_w.00081.bin...\n",
      "plotting bin/Blast.hydro_w.00082.bin...\n",
      "plotting bin/Blast.hydro_w.00083.bin...\n",
      "plotting bin/Blast.hydro_w.00084.bin...\n",
      "plotting bin/Blast.hydro_w.00085.bin...\n",
      "plotting bin/Blast.hydro_w.00086.bin...\n",
      "plotting bin/Blast.hydro_w.00087.bin...\n",
      "plotting bin/Blast.hydro_w.00088.bin...\n",
      "plotting bin/Blast.hydro_w.00089.bin...\n",
      "plotting bin/Blast.hydro_w.00090.bin...\n",
      "plotting bin/Blast.hydro_w.00091.bin...\n",
      "plotting bin/Blast.hydro_w.00092.bin...\n",
      "plotting bin/Blast.hydro_w.00093.bin...\n",
      "plotting bin/Blast.hydro_w.00094.bin...\n",
      "plotting bin/Blast.hydro_w.00095.bin...\n",
      "plotting bin/Blast.hydro_w.00096.bin...\n",
      "plotting bin/Blast.hydro_w.00097.bin...\n",
      "plotting bin/Blast.hydro_w.00098.bin...\n",
      "plotting bin/Blast.hydro_w.00099.bin...\n",
      "plotting bin/Blast.hydro_w.00100.bin...\n"
     ]
    }
   ],
   "source": [
    "# generate images and movie\n",
    "import plot_output_slice\n",
    "import subprocess\n",
    "subprocess.run([\"mkdir\",\"output_images\"]) # make image directory if needed\n",
    "plot_output_slice.plot_output()"
   ]
  },
  {
   "cell_type": "markdown",
   "id": "3c46fe89-b9f8-40d9-8d1c-672583ea642c",
   "metadata": {},
   "source": [
    "### Visualize the Data"
   ]
  },
  {
   "cell_type": "code",
   "execution_count": 10,
   "id": "cf9f1fa4-b18c-45b6-b276-88a1fbd02a5e",
   "metadata": {
    "tags": []
   },
   "outputs": [
    {
     "data": {
      "text/html": [
       "<video src=\"density.mov\" controls  width=\"800\"  height=\"600\">\n",
       "      Your browser does not support the <code>video</code> element.\n",
       "    </video>"
      ],
      "text/plain": [
       "<IPython.core.display.Video object>"
      ]
     },
     "execution_count": 10,
     "metadata": {},
     "output_type": "execute_result"
    }
   ],
   "source": [
    "from IPython.display import Video\n",
    "Video(\"density.mov\", width=800, height=600)"
   ]
  },
  {
   "cell_type": "code",
   "execution_count": null,
   "id": "26827040-bde3-4b4f-9da6-8f3c79e27a00",
   "metadata": {},
   "outputs": [],
   "source": []
  },
  {
   "cell_type": "code",
   "execution_count": null,
   "id": "bf005d2e-cfea-4617-9e23-fa68238c8bfd",
   "metadata": {},
   "outputs": [],
   "source": []
  }
 ],
 "metadata": {
  "kernelspec": {
   "display_name": "PyCamber",
   "language": "python",
   "name": "python3"
  },
  "language_info": {
   "codemirror_mode": {
    "name": "ipython",
    "version": 3
   },
   "file_extension": ".py",
   "mimetype": "text/x-python",
   "name": "python",
   "nbconvert_exporter": "python",
   "pygments_lexer": "ipython3",
   "version": "3.10.10"
  }
 },
 "nbformat": 4,
 "nbformat_minor": 5
}
